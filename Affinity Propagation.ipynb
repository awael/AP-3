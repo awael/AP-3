{
 "cells": [
  {
   "cell_type": "code",
   "execution_count": 357,
   "metadata": {},
   "outputs": [],
   "source": [
    "import math\n",
    "import random\n",
    "from operator import add\n",
    "data = [\n",
    "    [5.5,4.2],\n",
    "    [5.1,3.8],\n",
    "    [4.7,3.2],\n",
    "    [5.9,3.2],\n",
    "    [4.9,3.1],\n",
    "    [6.7,3.1],\n",
    "    [5,3],\n",
    "    [6,3],\n",
    "    [4.6,2.9],\n",
    "    [6.2,2.8]\n",
    "    ]"
   ]
  },
  {
   "cell_type": "code",
   "execution_count": 358,
   "metadata": {},
   "outputs": [],
   "source": [
    "w, h = 10, 10\n",
    "r = [[0 for x in range(w)] for y in range(h)]\n",
    "a = [[0 for x in range(w)] for y in range(h)]\n",
    "s = [[0 for x in range(w)] for y in range(h)]\n",
    "e = [[0 for x in range(w)] for y in range(h)]"
   ]
  },
  {
   "cell_type": "code",
   "execution_count": 359,
   "metadata": {},
   "outputs": [],
   "source": [
    "z = []\n",
    "for i in range (10):\n",
    "    for j in range (10):\n",
    "        s[i][j] = -((data[i][0]-data[j][0])*(data[i][0]-data[j][0])+(data[i][1]-data[j][1])*(data[i][1]-data[j][1]));\n",
    "        z.append(s[i][j])"
   ]
  },
  {
   "cell_type": "code",
   "execution_count": null,
   "metadata": {},
   "outputs": [],
   "source": []
  },
  {
   "cell_type": "code",
   "execution_count": 360,
   "metadata": {},
   "outputs": [],
   "source": [
    "# Insert Self-Similarity here\n",
    "for i in range (10):\n",
    "    s[i][i] = -2.109502311\n",
    "# -0.141421356 is the lowest similarity"
   ]
  },
  {
   "cell_type": "code",
   "execution_count": 361,
   "metadata": {},
   "outputs": [],
   "source": [
    "for iterations in range (2000):\n",
    "    for i in range (10):\n",
    "        for k in range (10):\n",
    "            maximum = -99999\n",
    "            for kk in range (k):\n",
    "                if (a[i][kk]+s[i][kk] > maximum):\n",
    "                       maximum = a[i][kk]+s[i][kk]\n",
    "            for kk in range (k+1,10):\n",
    "                if (s[i][kk] + a[i][kk] > maximum):\n",
    "                    maximum = s[i][kk]+a[i][kk]\n",
    "        \n",
    "            r[i][k] =  (s[i][k] - maximum) + 0.9 * r[i][k]\n",
    "#           learning rate added as it was too fast\n",
    "    for i in range (10):\n",
    "        for k in range (10):\n",
    "            if (i==k):\n",
    "                summ = 0\n",
    "                for ii in range (i):\n",
    "                    summ += max(0,r[ii][k])\n",
    "                for ii in range (i+1,10):\n",
    "                    summ += max(0,r[ii][k])\n",
    "                a[i][k] = summ*(1-0.9) + 0.9*a[i][k]\n",
    "            else:\n",
    "                summ = 0\n",
    "                for ii in range (min(i,k)):\n",
    "                    summ += max(0,r[ii][k])\n",
    "                for ii in range (min(i,k)+1,max(i,k)):\n",
    "                    summ += max(0,r[ii][k])\n",
    "                for ii in range (max(i,k)+1,10):\n",
    "                    summ += max(0,r[ii][k])\n",
    "                a[i][k] = (1-0.9)*min (0,r[k][k]+summ) + 0.9*a[i][k]"
   ]
  },
  {
   "cell_type": "code",
   "execution_count": 362,
   "metadata": {},
   "outputs": [],
   "source": [
    "final = []\n",
    "for i in range (10):\n",
    "    e[i][i] = r[i][i] + a[i][i]\n",
    "    if (e[i][i]>0):\n",
    "        final.append(i)\n",
    "# exemplar Matrix"
   ]
  },
  {
   "cell_type": "code",
   "execution_count": 363,
   "metadata": {},
   "outputs": [],
   "source": [
    "idx = [0 for x in range(10)] \n",
    "for i in range (10):\n",
    "    indexx = 0\n",
    "    maxim = -99999\n",
    "    for j in range (len(final)):\n",
    "        c = final[j]\n",
    "        if (s[i][c]>maxim):\n",
    "            maxim = s[i][c]\n",
    "            indexx = c\n",
    "    idx[i] = indexx + 1\n",
    "# Assign exemplars to points"
   ]
  },
  {
   "cell_type": "code",
   "execution_count": 364,
   "metadata": {},
   "outputs": [
    {
     "name": "stdout",
     "output_type": "stream",
     "text": [
      "[2, 2, 2, 6, 2, 6, 2, 6, 2, 6]\n"
     ]
    }
   ],
   "source": [
    "print(idx)"
   ]
  }
 ],
 "metadata": {
  "kernelspec": {
   "display_name": "Python 3",
   "language": "python",
   "name": "python3"
  },
  "language_info": {
   "codemirror_mode": {
    "name": "ipython",
    "version": 3
   },
   "file_extension": ".py",
   "mimetype": "text/x-python",
   "name": "python",
   "nbconvert_exporter": "python",
   "pygments_lexer": "ipython3",
   "version": "3.7.1"
  }
 },
 "nbformat": 4,
 "nbformat_minor": 2
}
